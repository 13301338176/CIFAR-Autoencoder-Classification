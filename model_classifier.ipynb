{
 "cells": [
  {
   "cell_type": "code",
   "execution_count": 1,
   "metadata": {},
   "outputs": [],
   "source": [
    "from __future__ import print_function, division\n",
    "import sys\n",
    "sys.path.append('../')\n",
    "import os\n",
    "import os.path\n",
    "\n",
    "import torch\n",
    "import torch.nn as nn\n",
    "import torch.optim as optim\n",
    "from torch.optim import lr_scheduler\n",
    "from torch.autograd import Variable\n",
    "import numpy as np\n",
    "import torchvision\n",
    "from torchvision import datasets, models, transforms\n",
    "#import matplotlib.pyplot as plt\n",
    "import time as t\n",
    "import pandas as pd\n",
    "from datetime import datetime\n",
    "\n",
    "\n",
    "# Matplotlib\n",
    "%matplotlib inline\n",
    "import matplotlib.pyplot as plt\n",
    "import cv2 # for image manipulation\n",
    "\n",
    "import torch.utils.data as data\n",
    "import glob\n",
    "from PIL import Image\n",
    "from PIL import ImageFile\n",
    "ImageFile.LOAD_TRUNCATED_IMAGES = True\n",
    "\n",
    "import json"
   ]
  },
  {
   "cell_type": "code",
   "execution_count": 2,
   "metadata": {},
   "outputs": [],
   "source": [
    "# Mean and std are as obtained from Autoencoder notebook,\n",
    "cifar10_mean = [ 0.4732,  0.4637,  0.4293]\n",
    "cifar10_std = [ 0.2202,  0.2168,  0.2153]\n",
    "\n",
    "data_transforms = {\n",
    "    'train': transforms.Compose([\n",
    "        transforms.RandomHorizontalFlip(),\n",
    "        transforms.ToTensor(),\n",
    "        transforms.Normalize(cifar10_mean, cifar10_std)\n",
    "    ]),\n",
    "    'val': transforms.Compose([\n",
    "        transforms.ToTensor(),\n",
    "        transforms.Normalize(cifar10_mean, cifar10_std)\n",
    "    ]),\n",
    "}"
   ]
  },
  {
   "cell_type": "markdown",
   "metadata": {},
   "source": [
    "# Define dataloader"
   ]
  },
  {
   "cell_type": "code",
   "execution_count": 3,
   "metadata": {},
   "outputs": [],
   "source": [
    "class Read_Dataset():\n",
    "    \n",
    "    def __init__(self, file_path,transform=None):\n",
    "        self.data = pd.read_csv(file_path, sep = ',')\n",
    "        self.label = self.data['class_label'].tolist() \n",
    "        self.image = [np.asarray(json.loads(x)) for x in self.data['img_data']]\n",
    "        self.transform = transform\n",
    "        \n",
    "    def __len__(self):\n",
    "        return len(self.data)\n",
    "    \n",
    "    def __getitem__(self, index):\n",
    "        label = self.label[index]\n",
    "        image_tensor = torch.from_numpy(self.image[index].astype('float32'))\n",
    "        image = transforms.ToPILImage()(image_tensor)\n",
    "        \n",
    "        if self.transform is not None:\n",
    "            image = self.transform(image)\n",
    "            \n",
    "        return image, label\n",
    "\n",
    "train_file_name = './modified_img_data.csv' \n",
    "test_file_name = './modified_img_data_test.csv'\n",
    "\n",
    "train_val_list = ['train' , 'val']\n",
    "path_to_input_file = {\n",
    "    'train' : train_file_name ,\n",
    "    'val':  test_file_name\n",
    "    }"
   ]
  },
  {
   "cell_type": "code",
   "execution_count": 4,
   "metadata": {},
   "outputs": [
    {
     "name": "stdout",
     "output_type": "stream",
     "text": [
      "time taken for reading data sets :  80.51884317398071\n"
     ]
    }
   ],
   "source": [
    "start = t.time()\n",
    "image_datasets = {x: Read_Dataset( file_path = path_to_input_file[x], transform = data_transforms[x])\n",
    "                  for x in train_val_list}\n",
    "print(\"time taken for reading data sets : \", str(t.time() - start))"
   ]
  },
  {
   "cell_type": "code",
   "execution_count": 5,
   "metadata": {},
   "outputs": [],
   "source": [
    "batch_size_num = 64\n",
    "dataloders = {x: torch.utils.data.DataLoader(image_datasets[x], batch_size=batch_size_num, shuffle=True, num_workers=4)\n",
    "              for x in train_val_list}"
   ]
  },
  {
   "cell_type": "markdown",
   "metadata": {},
   "source": [
    "# Get latent encodings from the Trained Autoencoder"
   ]
  },
  {
   "cell_type": "code",
   "execution_count": 6,
   "metadata": {},
   "outputs": [],
   "source": [
    "class Autoencoder(nn.Module):\n",
    "    def __init__(self):\n",
    "        super(Autoencoder, self).__init__()\n",
    "        \n",
    "        # batch_size : 16\n",
    "        # Input size to the Autoencoder : [batch_size, 3, 32, 32]\n",
    "        # Output size from the Autoencoder : [batch_size, 3, 32, 32]\n",
    "        self.encoder = nn.Sequential(\n",
    "            # 3 input channels(RGB), 12 output channels, 4x4 square convolution\n",
    "            nn.Conv2d(in_channels = 3, out_channels = 12, kernel_size = 4, stride=2, padding=1), # Output size : [batch_size, 12, 16, 16]\n",
    "            nn.ReLU(),\n",
    "            nn.Conv2d(12, 24, 4, stride=2, padding=1), # Output size : [batch_size, 24, 8, 8]\n",
    "            nn.ReLU(),\n",
    "            nn.Conv2d(24, 48, 4, stride=2, padding=1), # Output size : [batch_size, 48, 4, 4],\n",
    "            nn.ReLU(),\n",
    "            \n",
    "        )\n",
    "        self.decoder = nn.Sequential(\n",
    "            nn.ConvTranspose2d(48, 24, 4, stride=2, padding=1), # Output size: [batch_size, 24, 8, 8]\n",
    "            nn.ReLU(),  #TODO : try with LeakyReLU while decoding\n",
    "            nn.ConvTranspose2d(24, 12, 4, stride=2, padding=1), # Output size: [batch_size, 12, 16, 16]\n",
    "            nn.ReLU(),\n",
    "            nn.ConvTranspose2d(12, 3, 4, stride=2, padding=1), # Output size: [batch_size, 3, 32, 32]\n",
    "            nn.Sigmoid()\n",
    "        )\n",
    "\n",
    "    def forward(self, x):\n",
    "        encoded = self.encoder(x)\n",
    "        decoded = self.decoder(encoded)\n",
    "        return encoded, decoded"
   ]
  },
  {
   "cell_type": "code",
   "execution_count": 7,
   "metadata": {},
   "outputs": [],
   "source": [
    "def create_model():\n",
    "    autoencoder = Autoencoder()\n",
    "    if torch.cuda.is_available():\n",
    "        autoencoder = autoencoder.cuda()\n",
    "        print(\"Model moved to GPU.\")\n",
    "    return autoencoder"
   ]
  },
  {
   "cell_type": "code",
   "execution_count": 8,
   "metadata": {},
   "outputs": [
    {
     "name": "stdout",
     "output_type": "stream",
     "text": [
      "Model moved to GPU.\n",
      "Loading pretrained checkpoint...\n"
     ]
    }
   ],
   "source": [
    "# Create Autoencoder model\n",
    "autoencoder = create_model()\n",
    "\n",
    "print(\"Loading pretrained checkpoint...\")\n",
    "autoencoder.load_state_dict(torch.load(\"./weights/best_of_all_autoencoder.pkl\"))"
   ]
  },
  {
   "cell_type": "code",
   "execution_count": null,
   "metadata": {},
   "outputs": [],
   "source": []
  },
  {
   "cell_type": "markdown",
   "metadata": {},
   "source": [
    "# Define and train the CNN classifier"
   ]
  },
  {
   "cell_type": "code",
   "execution_count": 9,
   "metadata": {},
   "outputs": [],
   "source": [
    "class CNN_classifier(nn.Module):\n",
    "    def __init__(self):\n",
    "        super(CNN_classifier, self).__init__()\n",
    "        nn.Conv2d(in_channels = 3, out_channels = 12, kernel_size = 4, stride=2, padding=1), # Output size : [batch_size, 12, 16, 16]"
   ]
  },
  {
   "cell_type": "code",
   "execution_count": 10,
   "metadata": {},
   "outputs": [],
   "source": [
    "import torch.nn as nn\n",
    "import torch.nn.functional as F\n",
    "\n",
    "\n",
    "class CNN_classifier(nn.Module):\n",
    "    def __init__(self):\n",
    "#       Input size : [batch_size, 48, 4, 4]\n",
    "        super(CNN_classifier, self).__init__()\n",
    "        self.conv1 = nn.Conv2d(in_channels =48, out_channels = 24, kernel_size = 3, padding = 1) # Out size : [64, 24, 4, 4]\n",
    "        self.pool = nn.MaxPool2d(2, 2) # Out size : [64, 24, 2, 2]\n",
    "        self.fc1 = nn.Linear(96, 10)\n",
    "\n",
    "    def forward(self, x):\n",
    "        x = self.pool(F.relu(self.conv1(x)))\n",
    "        x = x.view(-1, 24 * 2 * 2)\n",
    "        x = self.fc1(x)\n",
    "        return x\n",
    "\n",
    "\n",
    "model = CNN_classifier()"
   ]
  },
  {
   "cell_type": "code",
   "execution_count": 11,
   "metadata": {},
   "outputs": [],
   "source": [
    "import torch.optim as optim\n",
    "\n",
    "criterion = nn.CrossEntropyLoss()\n",
    "optimizer = optim.SGD(model.parameters(), lr=0.001, momentum=0.9)"
   ]
  },
  {
   "cell_type": "markdown",
   "metadata": {},
   "source": [
    "# Train the classifier network"
   ]
  },
  {
   "cell_type": "code",
   "execution_count": 12,
   "metadata": {},
   "outputs": [
    {
     "name": "stdout",
     "output_type": "stream",
     "text": [
      "cuda:0\n"
     ]
    },
    {
     "data": {
      "text/plain": [
       "CNN_classifier(\n",
       "  (conv1): Conv2d(48, 24, kernel_size=(3, 3), stride=(1, 1), padding=(1, 1))\n",
       "  (pool): MaxPool2d(kernel_size=2, stride=2, padding=0, dilation=1, ceil_mode=False)\n",
       "  (fc1): Linear(in_features=96, out_features=10, bias=True)\n",
       ")"
      ]
     },
     "execution_count": 12,
     "metadata": {},
     "output_type": "execute_result"
    }
   ],
   "source": [
    "device = torch.device(\"cuda:0\" if torch.cuda.is_available() else \"cpu\")\n",
    "print(device)\n",
    "model.to(device)"
   ]
  },
  {
   "cell_type": "code",
   "execution_count": 16,
   "metadata": {},
   "outputs": [
    {
     "name": "stdout",
     "output_type": "stream",
     "text": [
      "[1,   100] loss: 0.087\n",
      "[1,   200] loss: 0.088\n",
      "[1,   300] loss: 0.086\n",
      "[1,   400] loss: 0.086\n",
      "[1,   500] loss: 0.085\n",
      "[1,   600] loss: 0.083\n",
      "[2,   100] loss: 0.157\n",
      "[2,   200] loss: 0.084\n",
      "[2,   300] loss: 0.082\n",
      "[2,   400] loss: 0.081\n",
      "[2,   500] loss: 0.082\n",
      "[2,   600] loss: 0.081\n",
      "[3,   100] loss: 0.152\n",
      "[3,   200] loss: 0.081\n",
      "[3,   300] loss: 0.079\n",
      "[3,   400] loss: 0.079\n",
      "[3,   500] loss: 0.080\n",
      "[3,   600] loss: 0.079\n",
      "[4,   100] loss: 0.150\n",
      "[4,   200] loss: 0.080\n",
      "[4,   300] loss: 0.077\n",
      "[4,   400] loss: 0.078\n",
      "[4,   500] loss: 0.079\n",
      "[4,   600] loss: 0.079\n",
      "[5,   100] loss: 0.147\n",
      "[5,   200] loss: 0.079\n",
      "[5,   300] loss: 0.078\n",
      "[5,   400] loss: 0.077\n",
      "[5,   500] loss: 0.078\n",
      "[5,   600] loss: 0.078\n",
      "[6,   100] loss: 0.146\n",
      "[6,   200] loss: 0.076\n",
      "[6,   300] loss: 0.077\n",
      "[6,   400] loss: 0.077\n",
      "[6,   500] loss: 0.077\n",
      "[6,   600] loss: 0.077\n",
      "[7,   100] loss: 0.144\n",
      "[7,   200] loss: 0.077\n",
      "[7,   300] loss: 0.077\n",
      "[7,   400] loss: 0.077\n",
      "[7,   500] loss: 0.077\n",
      "[7,   600] loss: 0.076\n",
      "[8,   100] loss: 0.142\n",
      "[8,   200] loss: 0.077\n",
      "[8,   300] loss: 0.075\n",
      "[8,   400] loss: 0.077\n",
      "[8,   500] loss: 0.077\n",
      "[8,   600] loss: 0.076\n",
      "[9,   100] loss: 0.142\n",
      "[9,   200] loss: 0.075\n",
      "[9,   300] loss: 0.076\n",
      "[9,   400] loss: 0.075\n",
      "[9,   500] loss: 0.076\n",
      "[9,   600] loss: 0.076\n",
      "[10,   100] loss: 0.140\n",
      "[10,   200] loss: 0.075\n",
      "[10,   300] loss: 0.075\n",
      "[10,   400] loss: 0.075\n",
      "[10,   500] loss: 0.076\n",
      "[10,   600] loss: 0.077\n",
      "Finished Training\n",
      "Saving Model...\n"
     ]
    }
   ],
   "source": [
    "max_epoch = 10\n",
    "running_loss = 0.0\n",
    "for epoch in range(max_epoch):\n",
    "    for i, data in enumerate(dataloders['train']):\n",
    "        images, labels = data[0].to(device), data[1].to(device)\n",
    "        images = Variable(images.cuda())\n",
    "\n",
    "        autoencoder_encodings, _ = autoencoder(images)\n",
    "#         print(encodings)\n",
    "\n",
    "        # zero the parameter gradients\n",
    "        optimizer.zero_grad()\n",
    "\n",
    "\n",
    "        # forward + backward + optimize\n",
    "        outputs = model(autoencoder_encodings)\n",
    "        loss = criterion(outputs, labels)\n",
    "        loss.backward()\n",
    "        optimizer.step()\n",
    "\n",
    "        # print statistics\n",
    "        running_loss += loss.item()\n",
    "        if i % 100 == 99:    # print every 2000 mini-batches\n",
    "            print('[%d, %5d] loss: %.3f' %\n",
    "                  (epoch + 1, i + 1, running_loss / 2000))\n",
    "            running_loss = 0.0\n",
    "\n",
    "print('Finished Training')\n",
    "print('Saving Model...')\n",
    "if not os.path.exists('./weights'):\n",
    "    os.mkdir('./weights')\n",
    "torch.save(model.state_dict(), \"./weights/cnn_classifier.pkl\")"
   ]
  },
  {
   "cell_type": "markdown",
   "metadata": {},
   "source": [
    "# Test the accuracy"
   ]
  },
  {
   "cell_type": "code",
   "execution_count": 17,
   "metadata": {},
   "outputs": [
    {
     "name": "stdout",
     "output_type": "stream",
     "text": [
      "Accuracy of the network on the 10000 test images: 44 %\n"
     ]
    }
   ],
   "source": [
    "correct = 0\n",
    "total = 0\n",
    "with torch.no_grad():\n",
    "    for data in dataloders['val']:\n",
    "        images, labels = data\n",
    "        labels = labels.to(device)\n",
    "        images = Variable(images.cuda())\n",
    "        autoencoder_encodings, _ = autoencoder(images)\n",
    "        outputs = model(autoencoder_encodings)\n",
    "        _, predicted = torch.max(outputs.data, 1)\n",
    "        total += labels.size(0)\n",
    "#         print(predicted, labels)\n",
    "        correct += (predicted == labels).sum().item()\n",
    "\n",
    "print('Accuracy of the network on the 10000 test images: %d %%' % (\n",
    "    100 * correct / total))"
   ]
  },
  {
   "cell_type": "markdown",
   "metadata": {},
   "source": [
    "# Test the class wise accuracy\n"
   ]
  },
  {
   "cell_type": "code",
   "execution_count": 19,
   "metadata": {},
   "outputs": [],
   "source": [
    "classes = ('plane', 'car', 'bird', 'cat', 'deer', 'dog', 'frog', 'horse', 'ship', 'truck')"
   ]
  },
  {
   "cell_type": "code",
   "execution_count": 20,
   "metadata": {},
   "outputs": [
    {
     "name": "stdout",
     "output_type": "stream",
     "text": [
      "Accuracy of plane : 61 %\n",
      "Accuracy of   car : 65 %\n",
      "Accuracy of  bird : 16 %\n",
      "Accuracy of   cat : 27 %\n",
      "Accuracy of  deer : 18 %\n",
      "Accuracy of   dog : 27 %\n",
      "Accuracy of  frog : 71 %\n",
      "Accuracy of horse : 41 %\n",
      "Accuracy of  ship : 60 %\n",
      "Accuracy of truck : 42 %\n"
     ]
    }
   ],
   "source": [
    "class_correct = list(0. for i in range(10))\n",
    "class_total = list(0. for i in range(10))\n",
    "with torch.no_grad():\n",
    "    for data in dataloders['val']:\n",
    "        images, labels = data\n",
    "        labels = labels.to(device)\n",
    "        images = Variable(images.cuda())\n",
    "        autoencoder_encodings, _ = autoencoder(images)\n",
    "        outputs = model(autoencoder_encodings)\n",
    "        _, predicted = torch.max(outputs, 1)\n",
    "        c = (predicted == labels).squeeze()\n",
    "        for i in range(4):\n",
    "            label = labels[i]\n",
    "            class_correct[label] += c[i].item()\n",
    "            class_total[label] += 1\n",
    "\n",
    "\n",
    "for i in range(10):\n",
    "    print('Accuracy of %5s : %2d %%' % (\n",
    "        classes[i], 100 * class_correct[i] / class_total[i]))"
   ]
  },
  {
   "cell_type": "code",
   "execution_count": null,
   "metadata": {},
   "outputs": [],
   "source": []
  }
 ],
 "metadata": {
  "kernelspec": {
   "display_name": "Python [default]",
   "language": "python",
   "name": "python3"
  },
  "language_info": {
   "codemirror_mode": {
    "name": "ipython",
    "version": 3
   },
   "file_extension": ".py",
   "mimetype": "text/x-python",
   "name": "python",
   "nbconvert_exporter": "python",
   "pygments_lexer": "ipython3",
   "version": "3.5.5"
  }
 },
 "nbformat": 4,
 "nbformat_minor": 2
}
