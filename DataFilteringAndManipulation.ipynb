{
 "cells": [
  {
   "cell_type": "code",
   "execution_count": 1,
   "metadata": {},
   "outputs": [],
   "source": [
    "# Pandas to manipulate data\n",
    "import pandas as pd\n",
    "import numpy as np\n",
    "\n",
    "# cpickle\n",
    "import _pickle as cPickle\n",
    "\n",
    "\n",
    "# Torchvision\n",
    "import torchvision \n",
    "from torchvision import datasets # for various datasets\n",
    "import torchvision.transforms as transforms # for dataset transformation"
   ]
  },
  {
   "cell_type": "code",
   "execution_count": 2,
   "metadata": {},
   "outputs": [
    {
     "name": "stdout",
     "output_type": "stream",
     "text": [
      "Files already downloaded and verified\n",
      "Files already downloaded and verified\n"
     ]
    }
   ],
   "source": [
    "transform = transforms.Compose([transforms.ToTensor()]) #for conversion to tensors\n",
    "trainset = torchvision.datasets.CIFAR10(root='./data', train=True,download=True, transform=transform)\n",
    "testset = torchvision.datasets.CIFAR10(root='./data', train=False, download=True, transform=transform)"
   ]
  },
  {
   "cell_type": "code",
   "execution_count": 3,
   "metadata": {},
   "outputs": [
    {
     "name": "stdout",
     "output_type": "stream",
     "text": [
      "50000 10000\n"
     ]
    }
   ],
   "source": [
    "# get train, test set sizes\n",
    "trainset_size = trainset.train_data.shape[0]\n",
    "testset_size = testset.test_data.shape[0]\n",
    "print(trainset_size, testset_size)"
   ]
  },
  {
   "cell_type": "code",
   "execution_count": 4,
   "metadata": {},
   "outputs": [
    {
     "name": "stdout",
     "output_type": "stream",
     "text": [
      "6\n"
     ]
    }
   ],
   "source": [
    "# get first label and image\n",
    "image1 = trainset[0][0]\n",
    "label1 = trainset[0][1]\n",
    "print(label1)"
   ]
  },
  {
   "cell_type": "code",
   "execution_count": 5,
   "metadata": {},
   "outputs": [
    {
     "name": "stdout",
     "output_type": "stream",
     "text": [
      "0 : airplane\n",
      "1 : automobile\n",
      "2 : bird\n",
      "3 : cat\n",
      "4 : deer\n",
      "5 : dog\n",
      "6 : frog\n",
      "7 : horse\n",
      "8 : ship\n",
      "9 : truck\n"
     ]
    }
   ],
   "source": [
    "def load_classes():\n",
    "    path = './data/cifar-10-batches-py/'\n",
    "    file = 'batches.meta'\n",
    "    \n",
    "    with open(path + file, 'rb') as fin:\n",
    "        dict = cPickle.load(fin)\n",
    "        return dict['label_names']\n",
    "\n",
    "def print_classes(label_names):\n",
    "    for i in range(10):\n",
    "        print(str(i) + \" : \" + label_names[i])\n",
    "\n",
    "classes = load_classes()\n",
    "print_classes(classes)"
   ]
  },
  {
   "cell_type": "markdown",
   "metadata": {},
   "source": [
    "# Filter 50% of the following classes for training (bird, deer and truck)"
   ]
  },
  {
   "cell_type": "code",
   "execution_count": 6,
   "metadata": {},
   "outputs": [],
   "source": [
    "# Class labels for bird = 2, deer =4, truck = 9"
   ]
  },
  {
   "cell_type": "code",
   "execution_count": 7,
   "metadata": {},
   "outputs": [],
   "source": [
    "# We'll create separate arrays to hold the images for different labels\n",
    "airplane = []\n",
    "automobile = []\n",
    "bird = []\n",
    "cat = []\n",
    "deer = []\n",
    "dog = []\n",
    "frog = []\n",
    "horse = []\n",
    "ship = []\n",
    "truck = []"
   ]
  },
  {
   "cell_type": "code",
   "execution_count": 8,
   "metadata": {},
   "outputs": [],
   "source": [
    "for i in range(trainset_size):\n",
    "    image_array = trainset[i][0]\n",
    "    class_lable = trainset[i][1]\n",
    "\n",
    "    if(class_lable == 0):\n",
    "        airplane.append(image_array)\n",
    "    elif(class_lable == 1):\n",
    "        automobile.append(image_array)\n",
    "    elif(class_lable == 2):\n",
    "        bird.append(image_array)\n",
    "    elif(class_lable == 3):\n",
    "        cat.append(image_array)\n",
    "    elif(class_lable == 4):\n",
    "        deer.append(image_array)\n",
    "    elif(class_lable == 5):\n",
    "        dog.append(image_array)\n",
    "    elif(class_lable == 6):\n",
    "        frog.append(image_array)\n",
    "    elif(class_lable == 7):\n",
    "        horse.append(image_array)\n",
    "    elif(class_lable == 8):\n",
    "        ship.append(image_array)\n",
    "    elif(class_lable == 9):\n",
    "        truck.append(image_array)"
   ]
  },
  {
   "cell_type": "code",
   "execution_count": 9,
   "metadata": {},
   "outputs": [
    {
     "name": "stdout",
     "output_type": "stream",
     "text": [
      "5000 5000 5000\n"
     ]
    }
   ],
   "source": [
    "print(len(bird), len(deer), len(truck))"
   ]
  },
  {
   "cell_type": "code",
   "execution_count": 10,
   "metadata": {},
   "outputs": [],
   "source": [
    "# Hence all of the classes has 5k images in the train dataset."
   ]
  },
  {
   "cell_type": "code",
   "execution_count": 11,
   "metadata": {},
   "outputs": [],
   "source": [
    "# Now drop last 2k values for bird, deer and truck from training dataset. Finally these will have 3k (half of 6k) values.\n",
    "bird_modified = bird[:3000] # total 6k images per class in CIFAR10 dataset.\n",
    "deer_modified = deer[:3000]\n",
    "truck_modified = truck[:3000]"
   ]
  },
  {
   "cell_type": "code",
   "execution_count": 12,
   "metadata": {},
   "outputs": [
    {
     "data": {
      "text/plain": [
       "3000"
      ]
     },
     "execution_count": 12,
     "metadata": {},
     "output_type": "execute_result"
    }
   ],
   "source": [
    "len(bird_modified)"
   ]
  },
  {
   "cell_type": "markdown",
   "metadata": {},
   "source": [
    "# Now create Pandas dataframe to store all classes"
   ]
  },
  {
   "cell_type": "code",
   "execution_count": 13,
   "metadata": {},
   "outputs": [],
   "source": [
    "columns = ['index','class_label', 'img_data']\n",
    "rows = []\n",
    "index = 0\n",
    "for i in range(len(airplane)):\n",
    "    index = index +1 \n",
    "    row = [index, 0, airplane[i].numpy()]\n",
    "    rows.append(row)\n",
    "for i in range(len(automobile)):\n",
    "    index = index +1 \n",
    "    row = [index, 1, automobile[i].numpy()]\n",
    "    rows.append(row)\n",
    "for i in range(len(bird_modified)):\n",
    "    index = index +1 \n",
    "    row = [index, 2, bird_modified[i].numpy()]\n",
    "    rows.append(row)\n",
    "for i in range(len(cat)):\n",
    "    index = index +1 \n",
    "    row = [index, 3, cat[i].numpy()]\n",
    "    rows.append(row)\n",
    "for i in range(len(deer_modified)):\n",
    "    index = index +1 \n",
    "    row = [index, 4, deer_modified[i].numpy()]\n",
    "    rows.append(row)\n",
    "for i in range(len(dog)):\n",
    "    index = index +1 \n",
    "    row = [index, 5, dog[i].numpy()]\n",
    "    rows.append(row)\n",
    "for i in range(len(frog)):\n",
    "    index = index +1 \n",
    "    row = [index, 6, frog[i].numpy()]\n",
    "    rows.append(row)\n",
    "for i in range(len(horse)):\n",
    "    index = index +1 \n",
    "    row = [index, 7, horse[i].numpy()]\n",
    "    rows.append(row)\n",
    "for i in range(len(ship)):\n",
    "    index = index +1 \n",
    "    row = [index, 8, ship[i].numpy()]\n",
    "    rows.append(row)\n",
    "for i in range(len(truck_modified)):\n",
    "    index = index +1 \n",
    "    row = [index, 9, truck_modified[i].numpy()]\n",
    "    rows.append(row)\n",
    "\n",
    "df = pd.DataFrame(rows, columns=columns)"
   ]
  },
  {
   "cell_type": "code",
   "execution_count": 14,
   "metadata": {},
   "outputs": [
    {
     "data": {
      "text/plain": [
       "(3, 32, 32)"
      ]
     },
     "execution_count": 14,
     "metadata": {},
     "output_type": "execute_result"
    }
   ],
   "source": [
    "df['img_data'][0].shape"
   ]
  },
  {
   "cell_type": "code",
   "execution_count": 15,
   "metadata": {},
   "outputs": [
    {
     "data": {
      "text/html": [
       "<div>\n",
       "<style scoped>\n",
       "    .dataframe tbody tr th:only-of-type {\n",
       "        vertical-align: middle;\n",
       "    }\n",
       "\n",
       "    .dataframe tbody tr th {\n",
       "        vertical-align: top;\n",
       "    }\n",
       "\n",
       "    .dataframe thead th {\n",
       "        text-align: right;\n",
       "    }\n",
       "</style>\n",
       "<table border=\"1\" class=\"dataframe\">\n",
       "  <thead>\n",
       "    <tr style=\"text-align: right;\">\n",
       "      <th></th>\n",
       "      <th>index</th>\n",
       "      <th>class_label</th>\n",
       "      <th>img_data</th>\n",
       "    </tr>\n",
       "  </thead>\n",
       "  <tbody>\n",
       "    <tr>\n",
       "      <th>0</th>\n",
       "      <td>1</td>\n",
       "      <td>0</td>\n",
       "      <td>[[[0.7921569, 0.7921569, 0.8, 0.80784315, 0.81...</td>\n",
       "    </tr>\n",
       "    <tr>\n",
       "      <th>1</th>\n",
       "      <td>2</td>\n",
       "      <td>0</td>\n",
       "      <td>[[[0.49411765, 0.47843137, 0.49411765, 0.49803...</td>\n",
       "    </tr>\n",
       "    <tr>\n",
       "      <th>2</th>\n",
       "      <td>3</td>\n",
       "      <td>0</td>\n",
       "      <td>[[[0.9843137, 0.96862745, 0.96862745, 0.972549...</td>\n",
       "    </tr>\n",
       "    <tr>\n",
       "      <th>3</th>\n",
       "      <td>4</td>\n",
       "      <td>0</td>\n",
       "      <td>[[[1.0, 1.0, 1.0, 0.7137255, 0.70980394, 1.0, ...</td>\n",
       "    </tr>\n",
       "    <tr>\n",
       "      <th>4</th>\n",
       "      <td>5</td>\n",
       "      <td>0</td>\n",
       "      <td>[[[0.17254902, 0.18431373, 0.2, 0.21176471, 0....</td>\n",
       "    </tr>\n",
       "  </tbody>\n",
       "</table>\n",
       "</div>"
      ],
      "text/plain": [
       "   index  class_label                                           img_data\n",
       "0      1            0  [[[0.7921569, 0.7921569, 0.8, 0.80784315, 0.81...\n",
       "1      2            0  [[[0.49411765, 0.47843137, 0.49411765, 0.49803...\n",
       "2      3            0  [[[0.9843137, 0.96862745, 0.96862745, 0.972549...\n",
       "3      4            0  [[[1.0, 1.0, 1.0, 0.7137255, 0.70980394, 1.0, ...\n",
       "4      5            0  [[[0.17254902, 0.18431373, 0.2, 0.21176471, 0...."
      ]
     },
     "execution_count": 15,
     "metadata": {},
     "output_type": "execute_result"
    }
   ],
   "source": [
    "df.head(5)"
   ]
  },
  {
   "cell_type": "code",
   "execution_count": 16,
   "metadata": {},
   "outputs": [],
   "source": [
    "file_name = 'modified_img_data.csv'"
   ]
  },
  {
   "cell_type": "code",
   "execution_count": 17,
   "metadata": {},
   "outputs": [],
   "source": [
    "#serialize the 3d numpy array data for RGB channel image\n",
    "import json\n",
    "df['img_data'] = df.img_data.map(lambda x: json.dumps(x.tolist()))"
   ]
  },
  {
   "cell_type": "code",
   "execution_count": 18,
   "metadata": {},
   "outputs": [],
   "source": [
    "df.to_csv(file_name, index=False)"
   ]
  },
  {
   "cell_type": "code",
   "execution_count": 19,
   "metadata": {},
   "outputs": [],
   "source": [
    "read_df = pd.read_csv(file_name)"
   ]
  },
  {
   "cell_type": "code",
   "execution_count": 20,
   "metadata": {},
   "outputs": [
    {
     "data": {
      "text/html": [
       "<div>\n",
       "<style scoped>\n",
       "    .dataframe tbody tr th:only-of-type {\n",
       "        vertical-align: middle;\n",
       "    }\n",
       "\n",
       "    .dataframe tbody tr th {\n",
       "        vertical-align: top;\n",
       "    }\n",
       "\n",
       "    .dataframe thead th {\n",
       "        text-align: right;\n",
       "    }\n",
       "</style>\n",
       "<table border=\"1\" class=\"dataframe\">\n",
       "  <thead>\n",
       "    <tr style=\"text-align: right;\">\n",
       "      <th></th>\n",
       "      <th>index</th>\n",
       "      <th>class_label</th>\n",
       "      <th>img_data</th>\n",
       "    </tr>\n",
       "  </thead>\n",
       "  <tbody>\n",
       "    <tr>\n",
       "      <th>0</th>\n",
       "      <td>1</td>\n",
       "      <td>0</td>\n",
       "      <td>[[[0.7921568751335144, 0.7921568751335144, 0.8...</td>\n",
       "    </tr>\n",
       "    <tr>\n",
       "      <th>1</th>\n",
       "      <td>2</td>\n",
       "      <td>0</td>\n",
       "      <td>[[[0.4941176474094391, 0.47843137383461, 0.494...</td>\n",
       "    </tr>\n",
       "    <tr>\n",
       "      <th>2</th>\n",
       "      <td>3</td>\n",
       "      <td>0</td>\n",
       "      <td>[[[0.9843137264251709, 0.9686274528503418, 0.9...</td>\n",
       "    </tr>\n",
       "    <tr>\n",
       "      <th>3</th>\n",
       "      <td>4</td>\n",
       "      <td>0</td>\n",
       "      <td>[[[1.0, 1.0, 1.0, 0.7137255072593689, 0.709803...</td>\n",
       "    </tr>\n",
       "    <tr>\n",
       "      <th>4</th>\n",
       "      <td>5</td>\n",
       "      <td>0</td>\n",
       "      <td>[[[0.1725490242242813, 0.18431372940540314, 0....</td>\n",
       "    </tr>\n",
       "  </tbody>\n",
       "</table>\n",
       "</div>"
      ],
      "text/plain": [
       "   index  class_label                                           img_data\n",
       "0      1            0  [[[0.7921568751335144, 0.7921568751335144, 0.8...\n",
       "1      2            0  [[[0.4941176474094391, 0.47843137383461, 0.494...\n",
       "2      3            0  [[[0.9843137264251709, 0.9686274528503418, 0.9...\n",
       "3      4            0  [[[1.0, 1.0, 1.0, 0.7137255072593689, 0.709803...\n",
       "4      5            0  [[[0.1725490242242813, 0.18431372940540314, 0...."
      ]
     },
     "execution_count": 20,
     "metadata": {},
     "output_type": "execute_result"
    }
   ],
   "source": [
    "read_df.head(5)"
   ]
  },
  {
   "cell_type": "code",
   "execution_count": 21,
   "metadata": {},
   "outputs": [
    {
     "data": {
      "text/html": [
       "<div>\n",
       "<style scoped>\n",
       "    .dataframe tbody tr th:only-of-type {\n",
       "        vertical-align: middle;\n",
       "    }\n",
       "\n",
       "    .dataframe tbody tr th {\n",
       "        vertical-align: top;\n",
       "    }\n",
       "\n",
       "    .dataframe thead th {\n",
       "        text-align: right;\n",
       "    }\n",
       "</style>\n",
       "<table border=\"1\" class=\"dataframe\">\n",
       "  <thead>\n",
       "    <tr style=\"text-align: right;\">\n",
       "      <th></th>\n",
       "      <th>index</th>\n",
       "      <th>class_label</th>\n",
       "      <th>img_data</th>\n",
       "    </tr>\n",
       "  </thead>\n",
       "  <tbody>\n",
       "    <tr>\n",
       "      <th>43995</th>\n",
       "      <td>43996</td>\n",
       "      <td>9</td>\n",
       "      <td>[[[0.4941176474094391, 0.4941176474094391, 0.4...</td>\n",
       "    </tr>\n",
       "    <tr>\n",
       "      <th>43996</th>\n",
       "      <td>43997</td>\n",
       "      <td>9</td>\n",
       "      <td>[[[1.0, 0.9764705896377563, 0.9725490212440491...</td>\n",
       "    </tr>\n",
       "    <tr>\n",
       "      <th>43997</th>\n",
       "      <td>43998</td>\n",
       "      <td>9</td>\n",
       "      <td>[[[0.38823530077934265, 0.4470588266849518, 0....</td>\n",
       "    </tr>\n",
       "    <tr>\n",
       "      <th>43998</th>\n",
       "      <td>43999</td>\n",
       "      <td>9</td>\n",
       "      <td>[[[0.1764705926179886, 0.21568627655506134, 0....</td>\n",
       "    </tr>\n",
       "    <tr>\n",
       "      <th>43999</th>\n",
       "      <td>44000</td>\n",
       "      <td>9</td>\n",
       "      <td>[[[0.7960784435272217, 0.7960784435272217, 0.8...</td>\n",
       "    </tr>\n",
       "  </tbody>\n",
       "</table>\n",
       "</div>"
      ],
      "text/plain": [
       "       index  class_label                                           img_data\n",
       "43995  43996            9  [[[0.4941176474094391, 0.4941176474094391, 0.4...\n",
       "43996  43997            9  [[[1.0, 0.9764705896377563, 0.9725490212440491...\n",
       "43997  43998            9  [[[0.38823530077934265, 0.4470588266849518, 0....\n",
       "43998  43999            9  [[[0.1764705926179886, 0.21568627655506134, 0....\n",
       "43999  44000            9  [[[0.7960784435272217, 0.7960784435272217, 0.8..."
      ]
     },
     "execution_count": 21,
     "metadata": {},
     "output_type": "execute_result"
    }
   ],
   "source": [
    "read_df.tail(5)"
   ]
  },
  {
   "cell_type": "code",
   "execution_count": null,
   "metadata": {},
   "outputs": [],
   "source": []
  }
 ],
 "metadata": {
  "kernelspec": {
   "display_name": "Python [default]",
   "language": "python",
   "name": "python3"
  },
  "language_info": {
   "codemirror_mode": {
    "name": "ipython",
    "version": 3
   },
   "file_extension": ".py",
   "mimetype": "text/x-python",
   "name": "python",
   "nbconvert_exporter": "python",
   "pygments_lexer": "ipython3",
   "version": "3.5.5"
  }
 },
 "nbformat": 4,
 "nbformat_minor": 2
}
