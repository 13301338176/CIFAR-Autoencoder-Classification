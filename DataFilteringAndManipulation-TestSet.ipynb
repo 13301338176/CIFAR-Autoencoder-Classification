{
 "cells": [
  {
   "cell_type": "code",
   "execution_count": 1,
   "metadata": {},
   "outputs": [],
   "source": [
    "# Pandas to manipulate data\n",
    "import pandas as pd\n",
    "import numpy as np\n",
    "\n",
    "# cpickle\n",
    "import _pickle as cPickle\n",
    "\n",
    "\n",
    "# Torchvision\n",
    "import torchvision \n",
    "from torchvision import datasets # for various datasets\n",
    "import torchvision.transforms as transforms # for dataset transformation"
   ]
  },
  {
   "cell_type": "code",
   "execution_count": 2,
   "metadata": {},
   "outputs": [
    {
     "name": "stdout",
     "output_type": "stream",
     "text": [
      "Files already downloaded and verified\n"
     ]
    }
   ],
   "source": [
    "transform = transforms.Compose([transforms.ToTensor()]) #for conversion to tensors\n",
    "testset = torchvision.datasets.CIFAR10(root='./data', train=False, download=True, transform=transform)"
   ]
  },
  {
   "cell_type": "code",
   "execution_count": 3,
   "metadata": {},
   "outputs": [
    {
     "name": "stdout",
     "output_type": "stream",
     "text": [
      "10000\n"
     ]
    }
   ],
   "source": [
    "testset_size = testset.test_data.shape[0]\n",
    "print(testset_size)"
   ]
  },
  {
   "cell_type": "code",
   "execution_count": 4,
   "metadata": {},
   "outputs": [
    {
     "name": "stdout",
     "output_type": "stream",
     "text": [
      "3\n"
     ]
    }
   ],
   "source": [
    "# get first label and image\n",
    "image1 = testset[0][0]\n",
    "label1 = testset[0][1]\n",
    "print(label1)"
   ]
  },
  {
   "cell_type": "code",
   "execution_count": 5,
   "metadata": {},
   "outputs": [
    {
     "name": "stdout",
     "output_type": "stream",
     "text": [
      "0 : airplane\n",
      "1 : automobile\n",
      "2 : bird\n",
      "3 : cat\n",
      "4 : deer\n",
      "5 : dog\n",
      "6 : frog\n",
      "7 : horse\n",
      "8 : ship\n",
      "9 : truck\n"
     ]
    }
   ],
   "source": [
    "def load_classes():\n",
    "    path = './data/cifar-10-batches-py/'\n",
    "    file = 'batches.meta'\n",
    "    \n",
    "    with open(path + file, 'rb') as fin:\n",
    "        dict = cPickle.load(fin)\n",
    "        return dict['label_names']\n",
    "\n",
    "def print_classes(label_names):\n",
    "    for i in range(10):\n",
    "        print(str(i) + \" : \" + label_names[i])\n",
    "\n",
    "classes = load_classes()\n",
    "print_classes(classes)"
   ]
  },
  {
   "cell_type": "code",
   "execution_count": 6,
   "metadata": {},
   "outputs": [],
   "source": [
    "# We'll create separate arrays to hold the images for different labels\n",
    "airplane = []\n",
    "automobile = []\n",
    "bird = []\n",
    "cat = []\n",
    "deer = []\n",
    "dog = []\n",
    "frog = []\n",
    "horse = []\n",
    "ship = []\n",
    "truck = []"
   ]
  },
  {
   "cell_type": "code",
   "execution_count": 7,
   "metadata": {},
   "outputs": [],
   "source": [
    "for i in range(testset_size):\n",
    "    image_array = testset[i][0]\n",
    "    class_lable = testset[i][1]\n",
    "\n",
    "    if(class_lable == 0):\n",
    "        airplane.append(image_array)\n",
    "    elif(class_lable == 1):\n",
    "        automobile.append(image_array)\n",
    "    elif(class_lable == 2):\n",
    "        bird.append(image_array)\n",
    "    elif(class_lable == 3):\n",
    "        cat.append(image_array)\n",
    "    elif(class_lable == 4):\n",
    "        deer.append(image_array)\n",
    "    elif(class_lable == 5):\n",
    "        dog.append(image_array)\n",
    "    elif(class_lable == 6):\n",
    "        frog.append(image_array)\n",
    "    elif(class_lable == 7):\n",
    "        horse.append(image_array)\n",
    "    elif(class_lable == 8):\n",
    "        ship.append(image_array)\n",
    "    elif(class_lable == 9):\n",
    "        truck.append(image_array)"
   ]
  },
  {
   "cell_type": "code",
   "execution_count": 8,
   "metadata": {},
   "outputs": [
    {
     "name": "stdout",
     "output_type": "stream",
     "text": [
      "1000 1000 1000\n"
     ]
    }
   ],
   "source": [
    "print(len(bird), len(deer), len(truck))"
   ]
  },
  {
   "cell_type": "code",
   "execution_count": 9,
   "metadata": {},
   "outputs": [],
   "source": [
    "# Hence all of the classes has 1k images in the test dataset."
   ]
  },
  {
   "cell_type": "markdown",
   "metadata": {},
   "source": [
    "# Now create Pandas dataframe to store all classes"
   ]
  },
  {
   "cell_type": "code",
   "execution_count": 10,
   "metadata": {},
   "outputs": [],
   "source": [
    "columns = ['index','class_label', 'img_data']\n",
    "rows = []\n",
    "index = 0\n",
    "for i in range(len(airplane)):\n",
    "    index = index +1 \n",
    "    row = [index, 0, airplane[i].numpy()]\n",
    "    rows.append(row)\n",
    "for i in range(len(automobile)):\n",
    "    index = index +1 \n",
    "    row = [index, 1, automobile[i].numpy()]\n",
    "    rows.append(row)\n",
    "for i in range(len(bird)):\n",
    "    index = index +1 \n",
    "    row = [index, 2, bird[i].numpy()]\n",
    "    rows.append(row)\n",
    "for i in range(len(cat)):\n",
    "    index = index +1 \n",
    "    row = [index, 3, cat[i].numpy()]\n",
    "    rows.append(row)\n",
    "for i in range(len(deer)):\n",
    "    index = index +1 \n",
    "    row = [index, 4, deer[i].numpy()]\n",
    "    rows.append(row)\n",
    "for i in range(len(dog)):\n",
    "    index = index +1 \n",
    "    row = [index, 5, dog[i].numpy()]\n",
    "    rows.append(row)\n",
    "for i in range(len(frog)):\n",
    "    index = index +1 \n",
    "    row = [index, 6, frog[i].numpy()]\n",
    "    rows.append(row)\n",
    "for i in range(len(horse)):\n",
    "    index = index +1 \n",
    "    row = [index, 7, horse[i].numpy()]\n",
    "    rows.append(row)\n",
    "for i in range(len(ship)):\n",
    "    index = index +1 \n",
    "    row = [index, 8, ship[i].numpy()]\n",
    "    rows.append(row)\n",
    "for i in range(len(truck)):\n",
    "    index = index +1 \n",
    "    row = [index, 9, truck[i].numpy()]\n",
    "    rows.append(row)\n",
    "\n",
    "df = pd.DataFrame(rows, columns=columns)"
   ]
  },
  {
   "cell_type": "code",
   "execution_count": 11,
   "metadata": {},
   "outputs": [
    {
     "data": {
      "text/plain": [
       "(3, 32, 32)"
      ]
     },
     "execution_count": 11,
     "metadata": {},
     "output_type": "execute_result"
    }
   ],
   "source": [
    "df['img_data'][0].shape"
   ]
  },
  {
   "cell_type": "code",
   "execution_count": 12,
   "metadata": {},
   "outputs": [
    {
     "data": {
      "text/html": [
       "<div>\n",
       "<style scoped>\n",
       "    .dataframe tbody tr th:only-of-type {\n",
       "        vertical-align: middle;\n",
       "    }\n",
       "\n",
       "    .dataframe tbody tr th {\n",
       "        vertical-align: top;\n",
       "    }\n",
       "\n",
       "    .dataframe thead th {\n",
       "        text-align: right;\n",
       "    }\n",
       "</style>\n",
       "<table border=\"1\" class=\"dataframe\">\n",
       "  <thead>\n",
       "    <tr style=\"text-align: right;\">\n",
       "      <th></th>\n",
       "      <th>index</th>\n",
       "      <th>class_label</th>\n",
       "      <th>img_data</th>\n",
       "    </tr>\n",
       "  </thead>\n",
       "  <tbody>\n",
       "    <tr>\n",
       "      <th>0</th>\n",
       "      <td>1</td>\n",
       "      <td>0</td>\n",
       "      <td>[[[0.60784316, 0.654902, 0.6901961, 0.74509805...</td>\n",
       "    </tr>\n",
       "    <tr>\n",
       "      <th>1</th>\n",
       "      <td>2</td>\n",
       "      <td>0</td>\n",
       "      <td>[[[0.3529412, 0.3529412, 0.35686275, 0.3568627...</td>\n",
       "    </tr>\n",
       "    <tr>\n",
       "      <th>2</th>\n",
       "      <td>3</td>\n",
       "      <td>0</td>\n",
       "      <td>[[[0.96862745, 0.9529412, 0.9529412, 0.9568627...</td>\n",
       "    </tr>\n",
       "    <tr>\n",
       "      <th>3</th>\n",
       "      <td>4</td>\n",
       "      <td>0</td>\n",
       "      <td>[[[0.827451, 0.8627451, 0.8745098, 0.87058824,...</td>\n",
       "    </tr>\n",
       "    <tr>\n",
       "      <th>4</th>\n",
       "      <td>5</td>\n",
       "      <td>0</td>\n",
       "      <td>[[[0.18431373, 0.18039216, 0.1764706, 0.176470...</td>\n",
       "    </tr>\n",
       "  </tbody>\n",
       "</table>\n",
       "</div>"
      ],
      "text/plain": [
       "   index  class_label                                           img_data\n",
       "0      1            0  [[[0.60784316, 0.654902, 0.6901961, 0.74509805...\n",
       "1      2            0  [[[0.3529412, 0.3529412, 0.35686275, 0.3568627...\n",
       "2      3            0  [[[0.96862745, 0.9529412, 0.9529412, 0.9568627...\n",
       "3      4            0  [[[0.827451, 0.8627451, 0.8745098, 0.87058824,...\n",
       "4      5            0  [[[0.18431373, 0.18039216, 0.1764706, 0.176470..."
      ]
     },
     "execution_count": 12,
     "metadata": {},
     "output_type": "execute_result"
    }
   ],
   "source": [
    "df.head(5)"
   ]
  },
  {
   "cell_type": "code",
   "execution_count": 13,
   "metadata": {},
   "outputs": [],
   "source": [
    "file_name = 'modified_img_data_test.csv'"
   ]
  },
  {
   "cell_type": "code",
   "execution_count": 14,
   "metadata": {},
   "outputs": [],
   "source": [
    "#serialize the 3d numpy array data for RGB channel image\n",
    "import json\n",
    "df['img_data'] = df.img_data.map(lambda x: json.dumps(x.tolist()))"
   ]
  },
  {
   "cell_type": "code",
   "execution_count": 15,
   "metadata": {},
   "outputs": [],
   "source": [
    "df.to_csv(file_name, index=False)"
   ]
  },
  {
   "cell_type": "code",
   "execution_count": 16,
   "metadata": {},
   "outputs": [],
   "source": [
    "read_df = pd.read_csv(file_name)"
   ]
  },
  {
   "cell_type": "code",
   "execution_count": 17,
   "metadata": {},
   "outputs": [
    {
     "data": {
      "text/html": [
       "<div>\n",
       "<style scoped>\n",
       "    .dataframe tbody tr th:only-of-type {\n",
       "        vertical-align: middle;\n",
       "    }\n",
       "\n",
       "    .dataframe tbody tr th {\n",
       "        vertical-align: top;\n",
       "    }\n",
       "\n",
       "    .dataframe thead th {\n",
       "        text-align: right;\n",
       "    }\n",
       "</style>\n",
       "<table border=\"1\" class=\"dataframe\">\n",
       "  <thead>\n",
       "    <tr style=\"text-align: right;\">\n",
       "      <th></th>\n",
       "      <th>index</th>\n",
       "      <th>class_label</th>\n",
       "      <th>img_data</th>\n",
       "    </tr>\n",
       "  </thead>\n",
       "  <tbody>\n",
       "    <tr>\n",
       "      <th>0</th>\n",
       "      <td>1</td>\n",
       "      <td>0</td>\n",
       "      <td>[[[0.6078431606292725, 0.6549019813537598, 0.6...</td>\n",
       "    </tr>\n",
       "    <tr>\n",
       "      <th>1</th>\n",
       "      <td>2</td>\n",
       "      <td>0</td>\n",
       "      <td>[[[0.3529411852359772, 0.3529411852359772, 0.3...</td>\n",
       "    </tr>\n",
       "    <tr>\n",
       "      <th>2</th>\n",
       "      <td>3</td>\n",
       "      <td>0</td>\n",
       "      <td>[[[0.9686274528503418, 0.9529411792755127, 0.9...</td>\n",
       "    </tr>\n",
       "    <tr>\n",
       "      <th>3</th>\n",
       "      <td>4</td>\n",
       "      <td>0</td>\n",
       "      <td>[[[0.8274509906768799, 0.8627451062202454, 0.8...</td>\n",
       "    </tr>\n",
       "    <tr>\n",
       "      <th>4</th>\n",
       "      <td>5</td>\n",
       "      <td>0</td>\n",
       "      <td>[[[0.18431372940540314, 0.18039216101169586, 0...</td>\n",
       "    </tr>\n",
       "  </tbody>\n",
       "</table>\n",
       "</div>"
      ],
      "text/plain": [
       "   index  class_label                                           img_data\n",
       "0      1            0  [[[0.6078431606292725, 0.6549019813537598, 0.6...\n",
       "1      2            0  [[[0.3529411852359772, 0.3529411852359772, 0.3...\n",
       "2      3            0  [[[0.9686274528503418, 0.9529411792755127, 0.9...\n",
       "3      4            0  [[[0.8274509906768799, 0.8627451062202454, 0.8...\n",
       "4      5            0  [[[0.18431372940540314, 0.18039216101169586, 0..."
      ]
     },
     "execution_count": 17,
     "metadata": {},
     "output_type": "execute_result"
    }
   ],
   "source": [
    "read_df.head(5)"
   ]
  },
  {
   "cell_type": "code",
   "execution_count": 25,
   "metadata": {},
   "outputs": [
    {
     "data": {
      "text/html": [
       "<div>\n",
       "<style scoped>\n",
       "    .dataframe tbody tr th:only-of-type {\n",
       "        vertical-align: middle;\n",
       "    }\n",
       "\n",
       "    .dataframe tbody tr th {\n",
       "        vertical-align: top;\n",
       "    }\n",
       "\n",
       "    .dataframe thead th {\n",
       "        text-align: right;\n",
       "    }\n",
       "</style>\n",
       "<table border=\"1\" class=\"dataframe\">\n",
       "  <thead>\n",
       "    <tr style=\"text-align: right;\">\n",
       "      <th></th>\n",
       "      <th>index</th>\n",
       "      <th>class_label</th>\n",
       "      <th>img_data</th>\n",
       "      <th>img_data_1</th>\n",
       "    </tr>\n",
       "  </thead>\n",
       "  <tbody>\n",
       "    <tr>\n",
       "      <th>9995</th>\n",
       "      <td>9996</td>\n",
       "      <td>9</td>\n",
       "      <td>[[[0.3843137323856354, 0.3803921639919281, 0.3...</td>\n",
       "      <td>[[[0.3843137323856354, 0.3803921639919281, 0.3...</td>\n",
       "    </tr>\n",
       "    <tr>\n",
       "      <th>9996</th>\n",
       "      <td>9997</td>\n",
       "      <td>9</td>\n",
       "      <td>[[[0.95686274766922, 0.9450980424880981, 0.949...</td>\n",
       "      <td>[[[0.95686274766922, 0.9450980424880981, 0.949...</td>\n",
       "    </tr>\n",
       "    <tr>\n",
       "      <th>9997</th>\n",
       "      <td>9998</td>\n",
       "      <td>9</td>\n",
       "      <td>[[[0.886274516582489, 0.8941176533699036, 0.89...</td>\n",
       "      <td>[[[0.886274516582489, 0.8941176533699036, 0.89...</td>\n",
       "    </tr>\n",
       "    <tr>\n",
       "      <th>9998</th>\n",
       "      <td>9999</td>\n",
       "      <td>9</td>\n",
       "      <td>[[[0.21960784494876862, 0.12156862765550613, 0...</td>\n",
       "      <td>[[[0.21960784494876862, 0.12156862765550613, 0...</td>\n",
       "    </tr>\n",
       "    <tr>\n",
       "      <th>9999</th>\n",
       "      <td>10000</td>\n",
       "      <td>9</td>\n",
       "      <td>[[[1.0, 0.9764705896377563, 0.95686274766922, ...</td>\n",
       "      <td>[[[1.0, 0.9764705896377563, 0.95686274766922, ...</td>\n",
       "    </tr>\n",
       "  </tbody>\n",
       "</table>\n",
       "</div>"
      ],
      "text/plain": [
       "      index  class_label                                           img_data  \\\n",
       "9995   9996            9  [[[0.3843137323856354, 0.3803921639919281, 0.3...   \n",
       "9996   9997            9  [[[0.95686274766922, 0.9450980424880981, 0.949...   \n",
       "9997   9998            9  [[[0.886274516582489, 0.8941176533699036, 0.89...   \n",
       "9998   9999            9  [[[0.21960784494876862, 0.12156862765550613, 0...   \n",
       "9999  10000            9  [[[1.0, 0.9764705896377563, 0.95686274766922, ...   \n",
       "\n",
       "                                             img_data_1  \n",
       "9995  [[[0.3843137323856354, 0.3803921639919281, 0.3...  \n",
       "9996  [[[0.95686274766922, 0.9450980424880981, 0.949...  \n",
       "9997  [[[0.886274516582489, 0.8941176533699036, 0.89...  \n",
       "9998  [[[0.21960784494876862, 0.12156862765550613, 0...  \n",
       "9999  [[[1.0, 0.9764705896377563, 0.95686274766922, ...  "
      ]
     },
     "execution_count": 25,
     "metadata": {},
     "output_type": "execute_result"
    }
   ],
   "source": [
    "read_df.tail(5)"
   ]
  },
  {
   "cell_type": "code",
   "execution_count": null,
   "metadata": {},
   "outputs": [],
   "source": []
  }
 ],
 "metadata": {
  "kernelspec": {
   "display_name": "Python [default]",
   "language": "python",
   "name": "python3"
  },
  "language_info": {
   "codemirror_mode": {
    "name": "ipython",
    "version": 3
   },
   "file_extension": ".py",
   "mimetype": "text/x-python",
   "name": "python",
   "nbconvert_exporter": "python",
   "pygments_lexer": "ipython3",
   "version": "3.5.5"
  }
 },
 "nbformat": 4,
 "nbformat_minor": 2
}
